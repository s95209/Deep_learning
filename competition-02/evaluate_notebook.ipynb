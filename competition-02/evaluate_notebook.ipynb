{
 "cells": [
  {
   "cell_type": "code",
   "execution_count": null,
   "metadata": {},
   "outputs": [],
   "source": [
    "def process_outputs(outputs):\n",
    "    \"\"\"\n",
    "    Process YOLO outputs into bou\n",
    "    \"\"\"\n",
    "\n",
    "    class_end = CELL_SIZE * CELL_SIZE * NUM_CLASSES\n",
    "    conf_end = class_end + CELL_SIZE * CELL_SIZE * BOXES_PER_CELL\n",
    "    class_probs = np.reshape(outputs[:, 0:class_end], (-1, 7, 7, 20))\n",
    "    confs = np.reshape(outputs[:, class_end:conf_end], (-1, 7, 7, 2))\n",
    "    boxes = np.reshape(outputs[:, conf_end:], (-1, 7, 7, 2 * 4))\n",
    "    predicts = np.concatenate([class_probs, confs, boxes], 3)\n",
    "\n",
    "    p_classes = predicts[0, :, :, 0:20]\n",
    "    C = predicts[0, :, :, 20:22]\n",
    "    coordinate = predicts[0, :, :, 22:]\n",
    "\n",
    "    p_classes = np.reshape(p_classes, (CELL_SIZE, CELL_SIZE, 1, 20))\n",
    "    C = np.reshape(C, (CELL_SIZE, CELL_SIZE, BOXES_PER_CELL, 1))\n",
    "\n",
    "    P = C * p_classes\n",
    "    # P's shape [7, 7, 2, 20]\n",
    "\n",
    "    xmin, ymin, xmax, ymax, class_num, conf = [], [], [], [], [], []\n",
    "\n",
    "    max_conf_idx = np.unravel_index(np.argmax(P), P.shape)\n",
    "    threshold = P[max_conf_idx] * 0.5\n",
    "\n",
    "    for i in range(np.prod(P.shape)):\n",
    "        idx = np.unravel_index(i, P.shape)\n",
    "        if (P[idx] > threshold):\n",
    "            class_num.append(idx[3])\n",
    "            conf.append(P[idx])\n",
    "\n",
    "            coordinate = np.reshape(coordinate, (CELL_SIZE, CELL_SIZE, BOXES_PER_CELL, 4))\n",
    "            xcenter, ycenter, w, h = coordinate[idx[0], idx[1], idx[2], :]\n",
    "\n",
    "            xcenter = (idx[1] + xcenter) * (IMAGE_SIZE / float(CELL_SIZE))\n",
    "            ycenter = (idx[0] + ycenter) * (IMAGE_SIZE / float(CELL_SIZE))\n",
    "\n",
    "            w = w * IMAGE_SIZE\n",
    "            h = h * IMAGE_SIZE\n",
    "\n",
    "            xmin.append(xcenter - w / 2.0)\n",
    "            ymin.append(ycenter - h / 2.0)\n",
    "\n",
    "            xmax.append(xmin[-1] + w)\n",
    "            ymax.append(ymin[-1] + h)\n",
    "\n",
    "    return xmin, ymin, xmax, ymax, class_num, conf\n"
   ]
  }
 ],
 "metadata": {
  "language_info": {
   "name": "python"
  }
 },
 "nbformat": 4,
 "nbformat_minor": 2
}
