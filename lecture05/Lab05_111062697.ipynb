{
 "cells": [
  {
   "cell_type": "markdown",
   "metadata": {},
   "source": [
    "Lab05: Regularization Assignment\n",
    "---\n",
    "111062697 吳律穎"
   ]
  },
  {
   "cell_type": "markdown",
   "metadata": {},
   "source": [
    "In this assignment, we would like to predict the success of shots made by basketball players in the NBA."
   ]
  },
  {
   "cell_type": "markdown",
   "metadata": {},
   "source": [
    "讀入 dataset 並將原始 training set 分為 traing set 和 Validation set"
   ]
  },
  {
   "cell_type": "code",
   "execution_count": 39,
   "metadata": {},
   "outputs": [
    {
     "data": {
      "text/plain": [
       "('./data/X_test.csv', <http.client.HTTPMessage at 0x7f8aac43a9d0>)"
      ]
     },
     "execution_count": 39,
     "metadata": {},
     "output_type": "execute_result"
    }
   ],
   "source": [
    "# download the dataset\n",
    "import pandas as pd\n",
    "import numpy as np\n",
    "import urllib.request\n",
    "import os\n",
    "from sklearn.model_selection import train_test_split\n",
    "\n",
    "if not os.path.exists('data/'):\n",
    "    os.mkdir('data/')\n",
    "\n",
    "urllib.request.urlretrieve(\"https://nthu-datalab.github.io/ml/labs/05_Regularization/data/X_train.csv\", \"./data/X_train.csv\")\n",
    "urllib.request.urlretrieve(\"https://nthu-datalab.github.io/ml/labs/05_Regularization/data/y_train.csv\", \"./data/y_train.csv\")\n",
    "urllib.request.urlretrieve(\"https://nthu-datalab.github.io/ml/labs/05_Regularization/data/X_test.csv\", \"./data/X_test.csv\")"
   ]
  },
  {
   "cell_type": "code",
   "execution_count": 40,
   "metadata": {},
   "outputs": [],
   "source": [
    "X_train = pd.read_csv('./data/X_train.csv')\n",
    "y_train = pd.read_csv('./data/y_train.csv')\n",
    "X_test = pd.read_csv('./data/X_test.csv')\n",
    "\n",
    "X_train, X_valid, y_train, y_valid = train_test_split(X_train, y_train, test_size=0.3, random_state=0)"
   ]
  },
  {
   "cell_type": "code",
   "execution_count": 41,
   "metadata": {},
   "outputs": [
    {
     "name": "stdout",
     "output_type": "stream",
     "text": [
      "       PERIOD  GAME_CLOCK  SHOT_CLOCK  DRIBBLES  TOUCH_TIME  SHOT_DIST  \\\n",
      "37396       3         152        21.0         0         0.5        2.4   \n",
      "74612       4         319         7.6         3         3.4       12.2   \n",
      "75290       4         579         9.5         0         4.9       17.5   \n",
      "82324       1         492         5.1         0         0.6       25.2   \n",
      "35827       1         556        22.1         0         0.9       24.1   \n",
      "...       ...         ...         ...       ...         ...        ...   \n",
      "21243       1         667         5.8         0         0.6        1.7   \n",
      "45891       4          46        17.3         2         1.6       12.8   \n",
      "42613       1         235        22.8         2         2.3        2.6   \n",
      "43567       2           9         4.5         0         0.9       24.6   \n",
      "68268       4         680        13.1         2         1.5       10.8   \n",
      "\n",
      "       PTS_TYPE  CLOSE_DEF_DIST  \n",
      "37396         2             3.4  \n",
      "74612         2             2.7  \n",
      "75290         2             4.6  \n",
      "82324         3             8.9  \n",
      "35827         3             5.1  \n",
      "...         ...             ...  \n",
      "21243         2             3.2  \n",
      "45891         2             3.7  \n",
      "42613         2             1.9  \n",
      "43567         3             4.7  \n",
      "68268         2             1.5  \n",
      "\n",
      "[60025 rows x 8 columns]\n",
      "       FGM\n",
      "37396    1\n",
      "74612    1\n",
      "75290    0\n",
      "82324    0\n",
      "35827    0\n",
      "...    ...\n",
      "21243    1\n",
      "45891    0\n",
      "42613    1\n",
      "43567    0\n",
      "68268    0\n",
      "\n",
      "[60025 rows x 1 columns]\n"
     ]
    }
   ],
   "source": [
    "print(X_train)\n",
    "print(y_train)"
   ]
  },
  {
   "cell_type": "markdown",
   "metadata": {},
   "source": [
    "### Requirements 1 :\n",
    "Use all features to train any linear model in scikit-learn and try different hyperparameters (ex. different degree, complexity). Show their performances."
   ]
  },
  {
   "cell_type": "markdown",
   "metadata": {},
   "source": [
    "##### Ridge"
   ]
  },
  {
   "cell_type": "code",
   "execution_count": 42,
   "metadata": {},
   "outputs": [
    {
     "name": "stdout",
     "output_type": "stream",
     "text": [
      "alpha: 0  , train_acc: 0.6079800083298625, valid_acc: 0.6096556013371687\n",
      "alpha: 1  , train_acc: 0.6079800083298625, valid_acc: 0.6096556013371687\n",
      "alpha: 10 , train_acc: 0.6080299875052062, valid_acc: 0.6096556013371687\n",
      "alpha: 15 , train_acc: 0.6080299875052062, valid_acc: 0.6096167301562622\n",
      "alpha: 20 , train_acc: 0.6080133277800917, valid_acc: 0.6096167301562622\n",
      "alpha: 30 , train_acc: 0.6079966680549771, valid_acc: 0.6096167301562622\n",
      "alpha: 40 , train_acc: 0.6080466472303206, valid_acc: 0.6095389877944491\n",
      "alpha: 50 , train_acc: 0.6080466472303206, valid_acc: 0.6095389877944491\n",
      "alpha: 60 , train_acc: 0.6080466472303206, valid_acc: 0.6095389877944491\n",
      "alpha: 70 , train_acc: 0.6080466472303206, valid_acc: 0.6095389877944491\n",
      "alpha: 80 , train_acc: 0.6080466472303206, valid_acc: 0.6095001166135428\n",
      "alpha: 90 , train_acc: 0.6080633069554352, valid_acc: 0.6095001166135428\n",
      "alpha: 100, train_acc: 0.6080633069554352, valid_acc: 0.6095389877944491\n",
      "alpha: 200, train_acc: 0.6080133277800917, valid_acc: 0.6096167301562622\n",
      "alpha: 300, train_acc: 0.6080966264056643, valid_acc: 0.6094223742517297\n",
      "alpha: 400, train_acc: 0.6080966264056643, valid_acc: 0.6094223742517297\n",
      "alpha: 500, train_acc: 0.6080133277800917, valid_acc: 0.6094223742517297\n",
      "alpha: 600, train_acc: 0.6081132861307789, valid_acc: 0.6095001166135428\n",
      "alpha: 700, train_acc: 0.6080299875052062, valid_acc: 0.6096167301562622\n",
      "alpha: 800, train_acc: 0.6079133694294044, valid_acc: 0.6096556013371687\n",
      "alpha: 1000, train_acc: 0.607930029154519, valid_acc: 0.6096944725180751\n"
     ]
    }
   ],
   "source": [
    "from sklearn.linear_model import RidgeClassifier\n",
    "import numpy as np\n",
    "\n",
    "for i in [0, 1, 10, 15, 20, 30, 40, 50, 60, 70, 80, 90, 100, 200, 300, 400, 500, 600, 700, 800, 1000]:\n",
    "    clf = RidgeClassifier(alpha=i).fit(X_train, np.ravel(y_train))\n",
    "    print(\"alpha: {:<3}, train_acc: {}, valid_acc: {}\".format(i, clf.score(X_train, y_train), clf.score(X_valid, y_valid)))"
   ]
  },
  {
   "cell_type": "markdown",
   "metadata": {},
   "source": [
    "小結： 在alpha為10時有最好的validation結果，當 alpha 更大時，也，雖然 training error 下降了，但 validation error 變大了"
   ]
  },
  {
   "cell_type": "markdown",
   "metadata": {},
   "source": [
    "##### LogisticRegression"
   ]
  },
  {
   "cell_type": "code",
   "execution_count": 43,
   "metadata": {},
   "outputs": [
    {
     "name": "stdout",
     "output_type": "stream",
     "text": [
      "C = 0.001, Training Acc: 0.6082798834, Valid Acc: 0.6095389878\n",
      "C =  0.01, Training Acc: 0.6081632653, Valid Acc: 0.6095778590\n",
      "C =   0.1, Training Acc: 0.6081965848, Valid Acc: 0.6096556013\n",
      "C =     1, Training Acc: 0.6079800083, Valid Acc: 0.6092668895\n",
      "C =    10, Training Acc: 0.6081466056, Valid Acc: 0.6097333437\n",
      "C =   100, Training Acc: 0.6081632653, Valid Acc: 0.6096167302\n"
     ]
    }
   ],
   "source": [
    "from sklearn.linear_model import LogisticRegression\n",
    "from sklearn.metrics import accuracy_score\n",
    "\n",
    "C_values = [0.001, 0.01, 0.1, 1, 10, 100]\n",
    "\n",
    "for C in C_values:\n",
    "    clf = LogisticRegression(C=C, max_iter=1000)\n",
    "    clf.fit(X_train, np.ravel(y_train))\n",
    "\n",
    "    y_train_pred = clf.predict(X_train)\n",
    "    y_valid_pred = clf.predict(X_valid)\n",
    "    \n",
    "    train_accuracy = accuracy_score(y_train, y_train_pred)\n",
    "    valid_accuracy = accuracy_score(y_valid, y_valid_pred)\n",
    "\n",
    "    print(f'C = {C:5}, Training Acc: {train_accuracy:.10f}, Valid Acc: {valid_accuracy:.10f}')\n"
   ]
  },
  {
   "cell_type": "markdown",
   "metadata": {},
   "source": [
    "小結： 在C為0.1時有最好的validation結果，當 C 更大時，雖然 training error 和 validation error 都變大了"
   ]
  },
  {
   "cell_type": "markdown",
   "metadata": {},
   "source": [
    "##### SGDClassifier"
   ]
  },
  {
   "cell_type": "code",
   "execution_count": 44,
   "metadata": {},
   "outputs": [
    {
     "name": "stdout",
     "output_type": "stream",
     "text": [
      "alpha: 0.001  , train_acc: 0.4685381091211995, valid_acc: 0.4743061494208194\n",
      "alpha: 0.01   , train_acc: 0.48666389004581423, valid_acc: 0.49296431625592785\n",
      "alpha: 0.1    , train_acc: 0.5925531028738026, valid_acc: 0.5892871025421752\n",
      "alpha: 1      , train_acc: 0.596268221574344, valid_acc: 0.5987716706833554\n",
      "alpha: 10     , train_acc: 0.5921366097459392, valid_acc: 0.5935629324418876\n"
     ]
    }
   ],
   "source": [
    "from sklearn.linear_model import SGDClassifier\n",
    "\n",
    "for i in [0.001, 0.01, 0.1, 1, 10]:\n",
    "    clf = SGDClassifier(alpha=i)\n",
    "    clf.fit(X_train, np.ravel(y_train))\n",
    "    y_train_pred = clf.predict(X_train)\n",
    "    y_valid_pred = clf.predict(X_valid)\n",
    "    \n",
    "    print(\"alpha: {:<7}, train_acc: {}, valid_acc: {}\".format(i, accuracy_score(y_train, y_train_pred), accuracy_score(y_valid, y_valid_pred)))\n"
   ]
  },
  {
   "cell_type": "markdown",
   "metadata": {},
   "source": [
    "小結： 在alpha為 1 時有最好的validation結果，當 alpha 更大時，training error 下降，但 validation error 變大了，有overfitting的現象"
   ]
  },
  {
   "cell_type": "markdown",
   "metadata": {},
   "source": [
    "### Requirements 2 :\n",
    "Select 1 setting (model + hyperparameters) and plot the error curve to show that the setting you selected isn't over-fit. \\\n",
    "我選了 RidgeClassifier 並把 alpha 設為 10，degree 設為 2，可以從途中看到沒有 overfit 的情形發生 "
   ]
  },
  {
   "cell_type": "code",
   "execution_count": 45,
   "metadata": {},
   "outputs": [
    {
     "name": "stderr",
     "output_type": "stream",
     "text": [
      "/home/s111062697/miniconda3/envs/deep_learning/lib/python3.9/site-packages/sklearn/linear_model/_ridge.py:211: LinAlgWarning: Ill-conditioned matrix (rcond=1.23132e-20): result may not be accurate.\n",
      "  return linalg.solve(A, Xy, assume_a=\"pos\", overwrite_a=True).T\n",
      "/home/s111062697/miniconda3/envs/deep_learning/lib/python3.9/site-packages/sklearn/linear_model/_ridge.py:211: LinAlgWarning: Ill-conditioned matrix (rcond=2.03619e-26): result may not be accurate.\n",
      "  return linalg.solve(A, Xy, assume_a=\"pos\", overwrite_a=True).T\n"
     ]
    },
    {
     "data": {
      "image/png": "[encoded data removed]",
      "text/plain": [
       "<Figure size 640x480 with 1 Axes>"
      ]
     },
     "metadata": {},
     "output_type": "display_data"
    }
   ],
   "source": [
    "from sklearn.linear_model import RidgeClassifier\n",
    "from sklearn.preprocessing import PolynomialFeatures\n",
    "import numpy as np\n",
    "from pylab import *\n",
    "\n",
    "error_train = []\n",
    "error_valid = []\n",
    "\n",
    "for i in range(1, 6):\n",
    "    poly = PolynomialFeatures(degree=i)\n",
    "    X_train_poly = poly.fit_transform(X_train)\n",
    "    X_valid_poly = poly.fit_transform(X_valid)\n",
    "    clf = RidgeClassifier(alpha=10).fit(X_train_poly, np.ravel(y_train))\n",
    "    error_train.append(1 - clf.score(X_train_poly, y_train))\n",
    "    error_valid.append(1 - clf.score(X_valid_poly, y_valid))\n",
    "\n",
    "plt.plot(range(1, 6), error_train, 'bo-',label = 'Training error' , linewidth = 2)\n",
    "plt.plot(range(1, 6), error_valid, 'rs-',label = 'Valid error', linewidth = 2)\n",
    "\n",
    "plt.legend(loc='upper right')\n",
    "plt.xlabel('Model complexity (degree)')\n",
    "plt.ylabel('$1 - accuracy$')\n",
    "plt.tight_layout()\n",
    "plt.savefig('./output/Ridge-error-curve.png', dpi=300)\n",
    "plt.show()"
   ]
  },
  {
   "cell_type": "markdown",
   "metadata": {},
   "source": [
    "### Requirements 3 :\n",
    "Use any method to choose the best 3 features that can best aid the model's prediction. Explain how you find it"
   ]
  },
  {
   "cell_type": "markdown",
   "metadata": {},
   "source": [
    "- Feature selection\n",
    "  - 用 Lasso 來 select features : Selected attributes: ['TOUCH_TIME' 'SHOT_DIST' 'CLOSE_DEF_DIST']"
   ]
  },
  {
   "cell_type": "code",
   "execution_count": 46,
   "metadata": {},
   "outputs": [
    {
     "name": "stdout",
     "output_type": "stream",
     "text": [
      "[-0.00000000e+00 -9.25856975e-06  3.91277558e-03 -0.00000000e+00\n",
      " -6.52556248e-03 -1.34518521e-02  0.00000000e+00  2.04527118e-02]\n"
     ]
    },
    {
     "data": {
      "image/png": "[encoded data removed]",
      "text/plain": [
       "<Figure size 640x480 with 1 Axes>"
      ]
     },
     "metadata": {},
     "output_type": "display_data"
    },
    {
     "name": "stdout",
     "output_type": "stream",
     "text": [
      "Selected attributes: ['TOUCH_TIME' 'SHOT_DIST' 'CLOSE_DEF_DIST']\n"
     ]
    }
   ],
   "source": [
    "from sklearn.linear_model import Lasso\n",
    "from sklearn.metrics import mean_squared_error\n",
    "\n",
    "\n",
    "var_num = X_train.shape[1]\n",
    "\n",
    "lr_lasso = Lasso(alpha = 0.01)\n",
    "lr_lasso.fit(X_train, y_train)\n",
    "\n",
    "print(lr_lasso.coef_)\n",
    "\n",
    "plt.scatter(range(var_num),lr_lasso.coef_, label = 'LASSO', color = 'blue')\n",
    "plt.hlines(y=0, xmin=0, xmax=var_num-1, color='red', linestyle ='--')\n",
    "plt.xlim(0,8)\n",
    "plt.legend(loc = 'upper right')\n",
    "plt.xlabel('Coefficients index')\n",
    "plt.ylabel('Coefficients')\n",
    "plt.tight_layout()\n",
    "plt.show()\n",
    "\n",
    "epsilon = 4e-3\n",
    "idxs = np.where(abs(lr_lasso.coef_) > epsilon)\n",
    "\n",
    "print('Selected attributes: {}'.format(X_train.columns.values[idxs]))"
   ]
  },
  {
   "cell_type": "markdown",
   "metadata": {},
   "source": [
    "### Requirements 4 :\n",
    "Train the model selected in 2. with the only 3 features selected in 3., and present the training error."
   ]
  },
  {
   "cell_type": "code",
   "execution_count": 47,
   "metadata": {},
   "outputs": [
    {
     "name": "stdout",
     "output_type": "stream",
     "text": [
      "       TOUCH_TIME  SHOT_DIST  CLOSE_DEF_DIST\n",
      "37396         0.5        2.4             3.4\n",
      "74612         3.4       12.2             2.7\n",
      "75290         4.9       17.5             4.6\n",
      "82324         0.6       25.2             8.9\n",
      "35827         0.9       24.1             5.1\n",
      "       TOUCH_TIME  SHOT_DIST  CLOSE_DEF_DIST\n",
      "48595         1.8        5.6             3.6\n",
      "33581         1.8       13.9             6.4\n",
      "80254         0.8        3.2             0.0\n",
      "15827         0.9       24.1             5.9\n",
      "43292         3.0        4.4             1.7\n",
      "\n",
      "Selected 3 features: \n",
      "training error: 0.3857725947521866, valid error: 0.38715696182850035\n"
     ]
    }
   ],
   "source": [
    "feature_select = ['TOUCH_TIME', 'SHOT_DIST', 'CLOSE_DEF_DIST']\n",
    "\n",
    "select_feature_train = X_train[feature_select]\n",
    "select_feature_valid = X_valid[feature_select]\n",
    "\n",
    "print(select_feature_train.head())\n",
    "print(select_feature_valid.head())\n",
    "\n",
    "train_error_train = []\n",
    "valid_error_valid = []\n",
    "\n",
    "\n",
    "poly = PolynomialFeatures(degree=2)\n",
    "select_feature_X_train_poly = poly.fit_transform(select_feature_train)\n",
    "select_feature_X_valid_poly = poly.fit_transform(select_feature_valid)\n",
    "clf = RidgeClassifier(alpha=10).fit(select_feature_X_train_poly, np.ravel(y_train))\n",
    "print()\n",
    "print(\"Selected 3 features: \")\n",
    "print(\"training error: {}, valid error: {}\".format(1 - clf.score(select_feature_X_train_poly, y_train), 1 - clf.score(select_feature_X_valid_poly, y_valid)) )"
   ]
  },
  {
   "cell_type": "markdown",
   "metadata": {},
   "source": [
    "### Requirements 5 :\n",
    "Export the predictions of the model trained in 4. for X_test (follow the format of y_train.csv)."
   ]
  },
  {
   "cell_type": "code",
   "execution_count": 48,
   "metadata": {},
   "outputs": [
    {
     "name": "stdout",
     "output_type": "stream",
     "text": [
      "       TOUCH_TIME  SHOT_DIST  CLOSE_DEF_DIST\n",
      "37396         0.5        2.4             3.4\n",
      "74612         3.4       12.2             2.7\n",
      "75290         4.9       17.5             4.6\n",
      "82324         0.6       25.2             8.9\n",
      "35827         0.9       24.1             5.1\n",
      "       TOUCH_TIME  SHOT_DIST  CLOSE_DEF_DIST\n",
      "48595         1.8        5.6             3.6\n",
      "33581         1.8       13.9             6.4\n",
      "80254         0.8        3.2             0.0\n",
      "15827         0.9       24.1             5.9\n",
      "43292         3.0        4.4             1.7\n"
     ]
    }
   ],
   "source": [
    "feature_select = ['TOUCH_TIME', 'SHOT_DIST', 'CLOSE_DEF_DIST']\n",
    "\n",
    "select_feature_train = X_train[feature_select]\n",
    "select_feature_test = X_test[feature_select]\n",
    "\n",
    "print(select_feature_train.head())\n",
    "print(select_feature_valid.head())\n",
    "\n",
    "train_error_train = []\n",
    "\n",
    "\n",
    "poly = PolynomialFeatures(degree=2)\n",
    "select_feature_X_train_poly = poly.fit_transform(select_feature_train)\n",
    "select_feature_X_test_poly = poly.fit_transform(select_feature_test)\n",
    "clf = RidgeClassifier(alpha=10).fit(select_feature_X_train_poly, np.ravel(y_train))\n",
    "\n",
    "y_pred = clf.predict(select_feature_X_test_poly)\n",
    "\n",
    "df = pd.DataFrame(y_pred, columns=['FGM'])\n",
    "df.to_csv('Lab05_111062697_y_pred.csv', index=False)"
   ]
  },
  {
   "cell_type": "markdown",
   "metadata": {},
   "source": [
    "### Requirements 6 :\n",
    "A brief report of what you have done in this assignment."
   ]
  },
  {
   "cell_type": "markdown",
   "metadata": {},
   "source": [
    "如上 implementation 的流程：\n",
    "- 將 training set 分割成 training set 和 validation set\n",
    "- 嘗試各種 linear model，並比較不同參數的結果\n",
    "- 選擇一種組合，並畫出 error curve 檢查是否有 overfitting\n",
    "- 用 Lasso 來做 feature selection 選出 top 3 的 feature 並訓練前面選擇的 model\n",
    "- 輸出 test set 的 predict 結果"
   ]
  }
 ],
 "metadata": {
  "kernelspec": {
   "display_name": "“deep_learn_env”",
   "language": "python",
   "name": "deep_learning"
  },
  "language_info": {
   "codemirror_mode": {
    "name": "ipython",
    "version": 3
   },
   "file_extension": ".py",
   "mimetype": "text/x-python",
   "name": "python",
   "nbconvert_exporter": "python",
   "pygments_lexer": "ipython3",
   "version": "3.9.18"
  }
 },
 "nbformat": 4,
 "nbformat_minor": 2
}
